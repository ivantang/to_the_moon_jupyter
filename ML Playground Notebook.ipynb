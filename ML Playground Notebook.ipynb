{
    "nbformat_minor": 1, 
    "cells": [
        {
            "source": "## Initiate Project-Lib Functions", 
            "cell_type": "markdown", 
            "metadata": {}
        }, 
        {
            "execution_count": 1, 
            "cell_type": "code", 
            "metadata": {}, 
            "outputs": [], 
            "source": "# The project token is an authorization token that is used to access project resources like data sources, connections, and used by platform APIs.\nfrom project_lib import Project\nproject = Project(project_id='8e9ddd28-407c-4429-82a8-99393e5cab06', project_access_token='p-4aa4b654e0cd0d4233f82254a8de695c417f6dcf')\npc = project.project_context"
        }, 
        {
            "source": "## List All Assets", 
            "cell_type": "markdown", 
            "metadata": {}
        }, 
        {
            "execution_count": 2, 
            "cell_type": "code", 
            "metadata": {}, 
            "outputs": [
                {
                    "execution_count": 2, 
                    "metadata": {}, 
                    "data": {
                        "text/plain": "[{'asset_id': '07703daf-7f3f-4fff-9281-9c31b80ad33c',\n  'name': 'tweets_May29toJune24b.csv',\n  'type': 'data_asset'},\n {'asset_id': 'e4577c33-4561-47db-912a-f9dd12bbaeec',\n  'name': 'KMI.csv',\n  'type': 'data_asset'},\n {'asset_id': '71b225fd-4b8d-46d0-98bc-353e372a2e4a',\n  'name': 'TSLA.csv',\n  'type': 'data_asset'},\n {'asset_id': 'd841d43d-6c07-4bac-a236-46a0d895780f',\n  'name': 'SHOP.csv',\n  'type': 'data_asset'},\n {'asset_id': '49f66575-2753-45ca-9b01-6c0cea9e1c82',\n  'name': 'BTCUSD.csv',\n  'type': 'data_asset'},\n {'asset_id': 'b01015e4-7f1d-40d3-a5e8-4f0522c809d2',\n  'name': 'AMD.csv',\n  'type': 'data_asset'},\n {'asset_id': '1c15ed18-133e-4ee4-99f4-cfed3d8a6505',\n  'name': 'TSE-WEED.csv',\n  'type': 'data_asset'},\n {'asset_id': '611febfe-dd3a-4f88-b32e-d2c1d46ab80c',\n  'name': 'tweets_May29toJune24b.json',\n  'type': 'data_asset'},\n {'asset_id': '0960de7d-109d-4669-9e94-7b9671aca99a',\n  'name': 'ML Playground Notebook',\n  'type': 'notebook'}]"
                    }, 
                    "output_type": "execute_result"
                }
            ], 
            "source": "assets = project.get_assets()\nassets"
        }, 
        {
            "source": "# STOCKS\n\n## Fetch TSLA.csv File", 
            "cell_type": "markdown", 
            "metadata": {}
        }, 
        {
            "execution_count": 50, 
            "cell_type": "code", 
            "metadata": {}, 
            "outputs": [
                {
                    "execution_count": 50, 
                    "metadata": {}, 
                    "data": {
                        "text/html": "<div>\n<style scoped>\n    .dataframe tbody tr th:only-of-type {\n        vertical-align: middle;\n    }\n\n    .dataframe tbody tr th {\n        vertical-align: top;\n    }\n\n    .dataframe thead th {\n        text-align: right;\n    }\n</style>\n<table border=\"1\" class=\"dataframe\">\n  <thead>\n    <tr style=\"text-align: right;\">\n      <th></th>\n      <th>DATE</th>\n      <th>CLOSE</th>\n      <th>HIGH</th>\n      <th>LOW</th>\n      <th>OPEN</th>\n      <th>VOLUME</th>\n    </tr>\n  </thead>\n  <tbody>\n    <tr>\n      <th>0</th>\n      <td>5/11/2018 06:30:00</td>\n      <td>307.4200</td>\n      <td>307.7000</td>\n      <td>307.4100</td>\n      <td>307.7000</td>\n      <td>39406</td>\n    </tr>\n    <tr>\n      <th>1</th>\n      <td>5/11/2018 06:35:00</td>\n      <td>306.2250</td>\n      <td>308.8800</td>\n      <td>306.0500</td>\n      <td>307.2500</td>\n      <td>185290</td>\n    </tr>\n    <tr>\n      <th>2</th>\n      <td>5/11/2018 06:40:00</td>\n      <td>303.3700</td>\n      <td>306.3800</td>\n      <td>302.7140</td>\n      <td>306.2150</td>\n      <td>170446</td>\n    </tr>\n    <tr>\n      <th>3</th>\n      <td>5/11/2018 06:45:00</td>\n      <td>303.7095</td>\n      <td>303.7999</td>\n      <td>302.8100</td>\n      <td>303.3450</td>\n      <td>84171</td>\n    </tr>\n    <tr>\n      <th>4</th>\n      <td>5/11/2018 06:50:00</td>\n      <td>302.4950</td>\n      <td>303.8800</td>\n      <td>302.2238</td>\n      <td>303.5800</td>\n      <td>63675</td>\n    </tr>\n    <tr>\n      <th>5</th>\n      <td>5/11/2018 06:55:00</td>\n      <td>303.6750</td>\n      <td>304.4700</td>\n      <td>302.2300</td>\n      <td>302.4000</td>\n      <td>86079</td>\n    </tr>\n    <tr>\n      <th>6</th>\n      <td>5/11/2018 07:00:00</td>\n      <td>303.7200</td>\n      <td>304.8900</td>\n      <td>303.6000</td>\n      <td>303.6400</td>\n      <td>74186</td>\n    </tr>\n    <tr>\n      <th>7</th>\n      <td>5/11/2018 07:05:00</td>\n      <td>303.7100</td>\n      <td>304.0200</td>\n      <td>303.2500</td>\n      <td>303.8500</td>\n      <td>43137</td>\n    </tr>\n    <tr>\n      <th>8</th>\n      <td>5/11/2018 07:10:00</td>\n      <td>303.2500</td>\n      <td>304.3700</td>\n      <td>303.0300</td>\n      <td>303.7548</td>\n      <td>48817</td>\n    </tr>\n    <tr>\n      <th>9</th>\n      <td>5/11/2018 07:15:00</td>\n      <td>302.6550</td>\n      <td>303.4600</td>\n      <td>302.5800</td>\n      <td>303.2500</td>\n      <td>46759</td>\n    </tr>\n  </tbody>\n</table>\n</div>", 
                        "text/plain": "                 DATE     CLOSE      HIGH       LOW      OPEN  VOLUME\n0  5/11/2018 06:30:00  307.4200  307.7000  307.4100  307.7000   39406\n1  5/11/2018 06:35:00  306.2250  308.8800  306.0500  307.2500  185290\n2  5/11/2018 06:40:00  303.3700  306.3800  302.7140  306.2150  170446\n3  5/11/2018 06:45:00  303.7095  303.7999  302.8100  303.3450   84171\n4  5/11/2018 06:50:00  302.4950  303.8800  302.2238  303.5800   63675\n5  5/11/2018 06:55:00  303.6750  304.4700  302.2300  302.4000   86079\n6  5/11/2018 07:00:00  303.7200  304.8900  303.6000  303.6400   74186\n7  5/11/2018 07:05:00  303.7100  304.0200  303.2500  303.8500   43137\n8  5/11/2018 07:10:00  303.2500  304.3700  303.0300  303.7548   48817\n9  5/11/2018 07:15:00  302.6550  303.4600  302.5800  303.2500   46759"
                    }, 
                    "output_type": "execute_result"
                }
            ], 
            "source": "# fetch file\ntsla = project.get_file('TSLA.csv')\n\n#read csv and put into pandas dataframe object\ntsla.seek(0)\nimport pandas as pd\n\n#peek at data\ntsla_pd = pd.read_csv(tsla)\ntsla_pd.head(10)"
        }, 
        {
            "execution_count": 51, 
            "cell_type": "code", 
            "metadata": {}, 
            "outputs": [
                {
                    "execution_count": 51, 
                    "metadata": {}, 
                    "data": {
                        "text/html": "<div>\n<style scoped>\n    .dataframe tbody tr th:only-of-type {\n        vertical-align: middle;\n    }\n\n    .dataframe tbody tr th {\n        vertical-align: top;\n    }\n\n    .dataframe thead th {\n        text-align: right;\n    }\n</style>\n<table border=\"1\" class=\"dataframe\">\n  <thead>\n    <tr style=\"text-align: right;\">\n      <th></th>\n      <th>CLOSE</th>\n    </tr>\n  </thead>\n  <tbody>\n    <tr>\n      <th>count</th>\n      <td>2370.000000</td>\n    </tr>\n    <tr>\n      <th>mean</th>\n      <td>310.444766</td>\n    </tr>\n    <tr>\n      <th>std</th>\n      <td>30.796184</td>\n    </tr>\n    <tr>\n      <th>min</th>\n      <td>273.870000</td>\n    </tr>\n    <tr>\n      <th>25%</th>\n      <td>284.182500</td>\n    </tr>\n    <tr>\n      <th>50%</th>\n      <td>296.900000</td>\n    </tr>\n    <tr>\n      <th>75%</th>\n      <td>343.705000</td>\n    </tr>\n    <tr>\n      <th>max</th>\n      <td>372.534700</td>\n    </tr>\n  </tbody>\n</table>\n</div>", 
                        "text/plain": "             CLOSE\ncount  2370.000000\nmean    310.444766\nstd      30.796184\nmin     273.870000\n25%     284.182500\n50%     296.900000\n75%     343.705000\nmax     372.534700"
                    }, 
                    "output_type": "execute_result"
                }
            ], 
            "source": "#get rid of useless columns for tsla_pd \ntsla_pd = tsla_pd.drop(columns=['HIGH', 'LOW', 'OPEN', 'VOLUME'])\ntsla_pd.describe()"
        }, 
        {
            "source": "# TWEETS\n\n## Fetch Tweets CSV Data", 
            "cell_type": "markdown", 
            "metadata": {}
        }, 
        {
            "execution_count": 5, 
            "cell_type": "code", 
            "metadata": {}, 
            "outputs": [
                {
                    "output_type": "stream", 
                    "name": "stdout", 
                    "text": "              Tweet_Date  Document Index (generated)  Number of Records  \\\n0  6/24/2018 11:59:59 PM                           1                  1   \n1  6/24/2018 11:59:51 PM                           2                  1   \n\n                   Table Name            Created At               Id Str  \\\n0  tweets_May29toJune24b.json  Jun 24 23:59:59 2018  1011036243440922626   \n1  tweets_May29toJune24b.json  Jun 24 23:59:51 2018  1011036210691575809   \n\n  Iso Language Code  Query  Sentiment Magnitude  Sentiment Score  \\\n0                it  tesla                  NaN              NaN   \n1                it  tesla                  NaN              NaN   \n\n                                                Text  User Favourites Count  \\\n0  RT @elonmusk: Tesla Semi Truck in Mad Max Mode...                   9660   \n1  RT @elonmusk: Tesla Semi Truck in Mad Max Mode...                  10167   \n\n   User Friends Count User Name  \n0                 141   A S A D  \n1                 191  scumbagg  \n"
                }
            ], 
            "source": "\n# fetch file\ntweets_csv = project.get_file('tweets_May29toJune24b.csv')\n\n#read csv and put into pandas dataframe object\ntweets_csv.seek(0)\n\n#peek at data\ntweets = pd.read_csv(tweets_csv, nrows=2)\nprint(tweets)"
        }, 
        {
            "execution_count": 36, 
            "cell_type": "code", 
            "metadata": {}, 
            "outputs": [], 
            "source": "# The code was removed by Watson Studio for sharing."
        }, 
        {
            "source": "### Filter By Query", 
            "cell_type": "markdown", 
            "metadata": {}
        }, 
        {
            "execution_count": 53, 
            "cell_type": "code", 
            "metadata": {}, 
            "outputs": [
                {
                    "execution_count": 53, 
                    "metadata": {}, 
                    "data": {
                        "text/html": "<div>\n<style scoped>\n    .dataframe tbody tr th:only-of-type {\n        vertical-align: middle;\n    }\n\n    .dataframe tbody tr th {\n        vertical-align: top;\n    }\n\n    .dataframe thead th {\n        text-align: right;\n    }\n</style>\n<table border=\"1\" class=\"dataframe\">\n  <thead>\n    <tr style=\"text-align: right;\">\n      <th></th>\n      <th>Tweet_Date</th>\n      <th>Sentiment</th>\n    </tr>\n  </thead>\n  <tbody>\n    <tr>\n      <th>87</th>\n      <td>6/24/2018 11:55:59 PM</td>\n      <td>-0.16</td>\n    </tr>\n    <tr>\n      <th>96</th>\n      <td>6/24/2018 11:55:41 PM</td>\n      <td>0.04</td>\n    </tr>\n    <tr>\n      <th>97</th>\n      <td>6/24/2018 11:55:39 PM</td>\n      <td>0.04</td>\n    </tr>\n    <tr>\n      <th>99</th>\n      <td>6/24/2018 11:55:38 PM</td>\n      <td>-0.21</td>\n    </tr>\n    <tr>\n      <th>1873</th>\n      <td>6/22/2018 11:59:59 PM</td>\n      <td>0.00</td>\n    </tr>\n    <tr>\n      <th>1874</th>\n      <td>6/22/2018 11:59:57 PM</td>\n      <td>-0.04</td>\n    </tr>\n    <tr>\n      <th>1875</th>\n      <td>6/22/2018 11:59:56 PM</td>\n      <td>0.09</td>\n    </tr>\n    <tr>\n      <th>1876</th>\n      <td>6/22/2018 11:59:56 PM</td>\n      <td>0.00</td>\n    </tr>\n    <tr>\n      <th>1877</th>\n      <td>6/22/2018 11:59:55 PM</td>\n      <td>0.00</td>\n    </tr>\n    <tr>\n      <th>1878</th>\n      <td>6/22/2018 11:59:50 PM</td>\n      <td>0.00</td>\n    </tr>\n  </tbody>\n</table>\n</div>", 
                        "text/plain": "                 Tweet_Date  Sentiment\n87    6/24/2018 11:55:59 PM      -0.16\n96    6/24/2018 11:55:41 PM       0.04\n97    6/24/2018 11:55:39 PM       0.04\n99    6/24/2018 11:55:38 PM      -0.21\n1873  6/22/2018 11:59:59 PM       0.00\n1874  6/22/2018 11:59:57 PM      -0.04\n1875  6/22/2018 11:59:56 PM       0.09\n1876  6/22/2018 11:59:56 PM       0.00\n1877  6/22/2018 11:59:55 PM       0.00\n1878  6/22/2018 11:59:50 PM       0.00"
                    }, 
                    "output_type": "execute_result"
                }
            ], 
            "source": "tesla_tweets.head(10)"
        }, 
        {
            "execution_count": 35, 
            "cell_type": "code", 
            "metadata": {}, 
            "outputs": [
                {
                    "execution_count": 35, 
                    "metadata": {}, 
                    "data": {
                        "text/html": "<div>\n<style scoped>\n    .dataframe tbody tr th:only-of-type {\n        vertical-align: middle;\n    }\n\n    .dataframe tbody tr th {\n        vertical-align: top;\n    }\n\n    .dataframe thead th {\n        text-align: right;\n    }\n</style>\n<table border=\"1\" class=\"dataframe\">\n  <thead>\n    <tr style=\"text-align: right;\">\n      <th></th>\n      <th>Sentiment</th>\n    </tr>\n  </thead>\n  <tbody>\n    <tr>\n      <th>count</th>\n      <td>1748.000000</td>\n    </tr>\n    <tr>\n      <th>mean</th>\n      <td>0.039045</td>\n    </tr>\n    <tr>\n      <th>std</th>\n      <td>0.271178</td>\n    </tr>\n    <tr>\n      <th>min</th>\n      <td>-2.080000</td>\n    </tr>\n    <tr>\n      <th>25%</th>\n      <td>0.000000</td>\n    </tr>\n    <tr>\n      <th>50%</th>\n      <td>0.000000</td>\n    </tr>\n    <tr>\n      <th>75%</th>\n      <td>0.090000</td>\n    </tr>\n    <tr>\n      <th>max</th>\n      <td>1.620000</td>\n    </tr>\n  </tbody>\n</table>\n</div>", 
                        "text/plain": "         Sentiment\ncount  1748.000000\nmean      0.039045\nstd       0.271178\nmin      -2.080000\n25%       0.000000\n50%       0.000000\n75%       0.090000\nmax       1.620000"
                    }, 
                    "output_type": "execute_result"
                }
            ], 
            "source": "tesla_tweets.describe()\n"
        }, 
        {
            "source": "## Visualization", 
            "cell_type": "markdown", 
            "metadata": {}
        }, 
        {
            "execution_count": 73, 
            "cell_type": "code", 
            "metadata": {}, 
            "outputs": [
                {
                    "execution_count": 73, 
                    "metadata": {}, 
                    "data": {
                        "text/html": "<div>\n<style scoped>\n    .dataframe tbody tr th:only-of-type {\n        vertical-align: middle;\n    }\n\n    .dataframe tbody tr th {\n        vertical-align: top;\n    }\n\n    .dataframe thead th {\n        text-align: right;\n    }\n</style>\n<table border=\"1\" class=\"dataframe\">\n  <thead>\n    <tr style=\"text-align: right;\">\n      <th></th>\n      <th>DATE</th>\n      <th>CLOSE</th>\n    </tr>\n  </thead>\n  <tbody>\n    <tr>\n      <th>0</th>\n      <td>5/11/2018 06:30:00</td>\n      <td>307.4200</td>\n    </tr>\n    <tr>\n      <th>1</th>\n      <td>5/11/2018 06:35:00</td>\n      <td>306.2250</td>\n    </tr>\n    <tr>\n      <th>2</th>\n      <td>5/11/2018 06:40:00</td>\n      <td>303.3700</td>\n    </tr>\n    <tr>\n      <th>3</th>\n      <td>5/11/2018 06:45:00</td>\n      <td>303.7095</td>\n    </tr>\n    <tr>\n      <th>4</th>\n      <td>5/11/2018 06:50:00</td>\n      <td>302.4950</td>\n    </tr>\n    <tr>\n      <th>5</th>\n      <td>5/11/2018 06:55:00</td>\n      <td>303.6750</td>\n    </tr>\n    <tr>\n      <th>6</th>\n      <td>5/11/2018 07:00:00</td>\n      <td>303.7200</td>\n    </tr>\n    <tr>\n      <th>7</th>\n      <td>5/11/2018 07:05:00</td>\n      <td>303.7100</td>\n    </tr>\n    <tr>\n      <th>8</th>\n      <td>5/11/2018 07:10:00</td>\n      <td>303.2500</td>\n    </tr>\n    <tr>\n      <th>9</th>\n      <td>5/11/2018 07:15:00</td>\n      <td>302.6550</td>\n    </tr>\n  </tbody>\n</table>\n</div>", 
                        "text/plain": "                 DATE     CLOSE\n0  5/11/2018 06:30:00  307.4200\n1  5/11/2018 06:35:00  306.2250\n2  5/11/2018 06:40:00  303.3700\n3  5/11/2018 06:45:00  303.7095\n4  5/11/2018 06:50:00  302.4950\n5  5/11/2018 06:55:00  303.6750\n6  5/11/2018 07:00:00  303.7200\n7  5/11/2018 07:05:00  303.7100\n8  5/11/2018 07:10:00  303.2500\n9  5/11/2018 07:15:00  302.6550"
                    }, 
                    "output_type": "execute_result"
                }
            ], 
            "source": "#tsla stock\ntsla_pd.head(10)"
        }, 
        {
            "execution_count": 4, 
            "cell_type": "code", 
            "metadata": {}, 
            "outputs": [
                {
                    "execution_count": 4, 
                    "metadata": {}, 
                    "data": {
                        "text/plain": "<module 'seaborn' from '/opt/conda/envs/DSX-Python35/lib/python3.5/site-packages/seaborn/__init__.py'>"
                    }, 
                    "output_type": "execute_result"
                }
            ], 
            "source": "import numpy as np\nimport pandas as pd\nimport matplotlib.pyplot as plt\nimport seaborn as sns\nsns.set(style=\"darkgrid\")\n\nsns"
        }, 
        {
            "execution_count": 75, 
            "cell_type": "code", 
            "metadata": {}, 
            "outputs": [
                {
                    "execution_count": 75, 
                    "metadata": {}, 
                    "data": {
                        "text/html": "<div>\n<style scoped>\n    .dataframe tbody tr th:only-of-type {\n        vertical-align: middle;\n    }\n\n    .dataframe tbody tr th {\n        vertical-align: top;\n    }\n\n    .dataframe thead th {\n        text-align: right;\n    }\n</style>\n<table border=\"1\" class=\"dataframe\">\n  <thead>\n    <tr style=\"text-align: right;\">\n      <th></th>\n      <th>Tweet_Date</th>\n      <th>Sentiment</th>\n    </tr>\n  </thead>\n  <tbody>\n    <tr>\n      <th>87</th>\n      <td>6/24/2018 11:55:59 PM</td>\n      <td>-0.16</td>\n    </tr>\n    <tr>\n      <th>96</th>\n      <td>6/24/2018 11:55:41 PM</td>\n      <td>0.04</td>\n    </tr>\n    <tr>\n      <th>97</th>\n      <td>6/24/2018 11:55:39 PM</td>\n      <td>0.04</td>\n    </tr>\n    <tr>\n      <th>99</th>\n      <td>6/24/2018 11:55:38 PM</td>\n      <td>-0.21</td>\n    </tr>\n    <tr>\n      <th>1873</th>\n      <td>6/22/2018 11:59:59 PM</td>\n      <td>0.00</td>\n    </tr>\n    <tr>\n      <th>1874</th>\n      <td>6/22/2018 11:59:57 PM</td>\n      <td>-0.04</td>\n    </tr>\n    <tr>\n      <th>1875</th>\n      <td>6/22/2018 11:59:56 PM</td>\n      <td>0.09</td>\n    </tr>\n    <tr>\n      <th>1876</th>\n      <td>6/22/2018 11:59:56 PM</td>\n      <td>0.00</td>\n    </tr>\n    <tr>\n      <th>1877</th>\n      <td>6/22/2018 11:59:55 PM</td>\n      <td>0.00</td>\n    </tr>\n    <tr>\n      <th>1878</th>\n      <td>6/22/2018 11:59:50 PM</td>\n      <td>0.00</td>\n    </tr>\n  </tbody>\n</table>\n</div>", 
                        "text/plain": "                 Tweet_Date  Sentiment\n87    6/24/2018 11:55:59 PM      -0.16\n96    6/24/2018 11:55:41 PM       0.04\n97    6/24/2018 11:55:39 PM       0.04\n99    6/24/2018 11:55:38 PM      -0.21\n1873  6/22/2018 11:59:59 PM       0.00\n1874  6/22/2018 11:59:57 PM      -0.04\n1875  6/22/2018 11:59:56 PM       0.09\n1876  6/22/2018 11:59:56 PM       0.00\n1877  6/22/2018 11:59:55 PM       0.00\n1878  6/22/2018 11:59:50 PM       0.00"
                    }, 
                    "output_type": "execute_result"
                }
            ], 
            "source": "#tsla tweet\ntesla_tweets.head(10)"
        }, 
        {
            "execution_count": 81, 
            "cell_type": "code", 
            "metadata": {}, 
            "outputs": [
                {
                    "output_type": "display_data", 
                    "data": {
                        "text/plain": "<matplotlib.figure.Figure at 0x7f08028124a8>"
                    }, 
                    "metadata": {}
                }, 
                {
                    "output_type": "display_data", 
                    "data": {
                        "image/png": "[encoded data removed]", 
                        "text/plain": "<matplotlib.figure.Figure at 0x7f0802812f98>"
                    }, 
                    "metadata": {}
                }
            ], 
            "source": "import matplotlib.pyplot as plt\nfrom matplotlib.pyplot import figure\nimport matplotlib.dates as mdates\n\nfigure(figsize=(16,12))\n\nfig, ax = plt.subplots()\n\n#plot = plt.plot_date(tesla_tweets.Tweet_Date, tesla_tweets['Sentiment'], '.',alpha=0.5)\nax.plot(tesla_tweets.Tweet_Date, tesla_tweets['Sentiment'], '.',alpha=0.5)\nax.xaxis.set_major_formatter(mdates.DateFormatter('%d/%m/%Y %H:%M:%S' ))\nax.xaxis.set_major_locator(mdates.MonthLocator(1))"
        }, 
        {
            "execution_count": null, 
            "cell_type": "code", 
            "metadata": {}, 
            "outputs": [], 
            "source": ""
        }
    ], 
    "metadata": {
        "kernelspec": {
            "display_name": "Python 3.5", 
            "name": "python3", 
            "language": "python"
        }, 
        "language_info": {
            "mimetype": "text/x-python", 
            "nbconvert_exporter": "python", 
            "version": "3.5.5", 
            "name": "python", 
            "file_extension": ".py", 
            "pygments_lexer": "ipython3", 
            "codemirror_mode": {
                "version": 3, 
                "name": "ipython"
            }
        }
    }, 
    "nbformat": 4
}